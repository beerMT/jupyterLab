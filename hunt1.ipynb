{
 "cells": [
  {
   "cell_type": "markdown",
   "metadata": {},
   "source": [
    "# Below is the first line(s) of code we will execute, hit Shift + Enter!"
   ]
  },
  {
   "cell_type": "code",
   "execution_count": null,
   "metadata": {},
   "outputs": [],
   "source": [
    "print(\"Hello World!\")"
   ]
  },
  {
   "cell_type": "markdown",
   "metadata": {},
   "source": [
    "# Analyzing HTTP Using stacking Techniques\n",
    "\n",
    "## Hypothesis: \n",
    "Attackers will scan during the recon phase with enumeration tools that will have unique characteristics that appear in the user-agent field of HTTP logs <br>\n",
    "References:<br>\n",
    "https://github.com/ThreatHuntingProject/ThreatHunting/blob/master/hunts/http_user_agent_analysis.md <br>\n",
    "https://posts.specterops.io/threat-hunting-with-jupyter-notebooks-part-1-your-first-notebook-9a99a781fde7 <br>\n",
    "https://dgunter.com/2017/09/17/threat-hunting-with-python-prologue-and-basic-http-hunting/ <br>"
   ]
  },
  {
   "cell_type": "markdown",
   "metadata": {},
   "source": [
    "## Step 1: Take the http.log file, parse out the fields of importance, and stack/count on those desired fields to discover anomalies "
   ]
  },
  {
   "cell_type": "markdown",
   "metadata": {},
   "source": [
    "### Import Python libraries for statistical analysis"
   ]
  },
  {
   "cell_type": "code",
   "execution_count": 53,
   "metadata": {
    "collapsed": true
   },
   "outputs": [],
   "source": [
    "import json\n",
    "from datetime import datetime, timedelta\n",
    "from collections import OrderedDict\n",
    "import matplotlib.pylab as plot\n",
    "import numpy as np"
   ]
  },
  {
   "cell_type": "markdown",
   "metadata": {},
   "source": [
    "### Read in the http.log file, split lines, remove comments"
   ]
  },
  {
   "cell_type": "code",
   "execution_count": 54,
   "metadata": {
    "collapsed": true
   },
   "outputs": [],
   "source": [
    "# Read data from http bro logs\n",
    "with open(\"http.log\",'r') as infile:\n",
    "    file_data = infile.read()\n",
    "    \n",
    "# Split file by newlines\n",
    "file_data = file_data.split('\\n')\n",
    "\n",
    "# Remove comment lines\n",
    "http_data = []\n",
    "for line in file_data:\n",
    "    if line[0] is not None and line[0] != \"#\":\n",
    "        http_data.append(line)"
   ]
  },
  {
   "cell_type": "code",
   "execution_count": null,
   "metadata": {},
   "outputs": [],
   "source": [
    "# Stack user agents\n",
    "user_agents = {}\n",
    "for line in http_data:\n",
    "    if len(line.split('\\t')) > 12:\n",
    "        user_agent = line.split('\\t')[11]\n",
    "        if user_agent not in user_agents.keys():\n",
    "            user_agents[user_agent] = 1\n",
    "        else:\n",
    "            user_agents[user_agent] += 1\n",
    "            \n",
    "# Sort the dictionary for long tail analysis and print out\n",
    "sortedUser_agents = OrderedDict(sorted(user_agents.items(), reverse=True, key=lambda x: x[1]))\n",
    "print(json.dumps(sortedUser_agents,indent=2))"
   ]
  },
  {
   "cell_type": "markdown",
   "metadata": {},
   "source": [
    "### What stands out in the user-agent strings? Let's search on this string"
   ]
  },
  {
   "cell_type": "code",
   "execution_count": null,
   "metadata": {},
   "outputs": [],
   "source": [
    "# Let's search for the nmap user agent\n",
    "suspicious_user_agents = ['Mozilla/5.0 (compatible; Nmap Scripting Engine; http://nmap.org/book/nse.html)']\n",
    "nmap_scanned_hosts = {}\n",
    "for line in http_data:\n",
    "    if len(line.split('\\t')) > 12:\n",
    "        client = line.split('\\t')[2]\n",
    "        server = line.split('\\t')[4]\n",
    "        user_agent = line.split('\\t')[11]\n",
    "        \n",
    "        # If you have a positive hit for user-agent string\n",
    "        if user_agent in suspicious_user_agents:\n",
    "            \n",
    "            # Condition where client is not in dict\n",
    "            if client not in nmap_scanned_hosts.keys():\n",
    "                nmap_scanned_hosts[client] = {server:1}\n",
    "                \n",
    "            # Condition where server is not mapped to client in dict    \n",
    "            elif server not in nmap_scanned_hosts[client].keys():\n",
    "                nmap_scanned_hosts[client][server] = 1\n",
    "            \n",
    "            # Condition where both are mapped and exist, then increment\n",
    "            else:\n",
    "                nmap_scanned_hosts[client][server] += 1\n",
    "\n",
    "print(json.dumps(nmap_scanned_hosts,indent=2))"
   ]
  },
  {
   "cell_type": "markdown",
   "metadata": {},
   "source": [
    "### Does the above output prove or disprove the hypothesis?"
   ]
  },
  {
   "cell_type": "markdown",
   "metadata": {},
   "source": [
    "### Grab information about the hosts in question and start an investigation/triage. Output pertinent information to CSV for the handoff."
   ]
  },
  {
   "cell_type": "code",
   "execution_count": 59,
   "metadata": {
    "collapsed": true
   },
   "outputs": [],
   "source": [
    "# Build suspicious hosts dict\n",
    "suspicious_hosts = {}\n",
    "for client in sorted(nmap_scanned_hosts.keys()):\n",
    "    for server in sorted(nmap_scanned_hosts[client].keys()):\n",
    "        if client not in suspicious_hosts.keys():\n",
    "            suspicious_hosts[client] = [server]\n",
    "        else:\n",
    "            suspicious_hosts[client].append(server)\n",
    "\n",
    "# Write CSV file out for display/distribution in excel\n",
    "with open('suspicious_http_records.csv','w') as outfile:\n",
    "    # Set column headers\n",
    "    outfile.write(\"ts,uid,id.orig_h,id.orig_p,id.resp_h,id.resp_p,trans_depth,method,host,uri,referrer,user_agent,request_body_len,response_body_len,status_code,status_msg,info_code,info_msg,filename,tags,username,password,proxied,orig_fuids,orig_mime_types,resp_fuids,resp_mime_types\\n\")\n",
    "    \n",
    "    for line in http_data:\n",
    "        if len(line.split('\\t')) > 12:\n",
    "            timestamp = line.split('\\t')[0]\n",
    "            client = line.split('\\t')[2]\n",
    "            server = line.split('\\t')[4]\n",
    "            user_agent = line.split('\\t')[11]\n",
    "            uri = line.split('\\t')[9]\n",
    "            if client in suspicious_hosts.keys():\n",
    "                if server in suspicious_hosts[client]:\n",
    "                    outfile.write(\"\\\"\" + line.replace(\"\\t\",\"\\\",\\\"\") + \"\\\"\\n\")\n"
   ]
  },
  {
   "cell_type": "code",
   "execution_count": null,
   "metadata": {},
   "outputs": [],
   "source": []
  }
 ],
 "metadata": {
  "kernelspec": {
   "display_name": "Python 3",
   "language": "python",
   "name": "python3"
  },
  "language_info": {
   "codemirror_mode": {
    "name": "ipython",
    "version": 3
   },
   "file_extension": ".py",
   "mimetype": "text/x-python",
   "name": "python",
   "nbconvert_exporter": "python",
   "pygments_lexer": "ipython3",
   "version": "3.7.3"
  }
 },
 "nbformat": 4,
 "nbformat_minor": 2
}
