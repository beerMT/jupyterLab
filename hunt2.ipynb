{
 "cells": [
  {
   "cell_type": "markdown",
   "metadata": {},
   "source": [
    "# Let's Focus on Behavior!\n",
    "Hunt1 used our knowledge of the scanning and enumeration tool (nmap) to pickup on an anomaly. In Hunt2, we want to assume our attacker is better at hiding their tracks and we will instead focus on relationships and behaviors of clients/servers or consumers/producers. This is something that is not trivial for the attacker to manipulate or obfuscate (i.e. Pyramid of Pain). The user-agent string is controlled by the sending host/attacker and can be easily manipulated. However, the response code from the server is not something that the attacker gets to manipulate."
   ]
  },
  {
   "cell_type": "code",
   "execution_count": 7,
   "metadata": {
    "collapsed": true,
    "scrolled": true
   },
   "outputs": [],
   "source": [
    "import json\n",
    "from datetime import datetime, timedelta\n",
    "import matplotlib.pylab as plot\n",
    "import matplotlib.pyplot as plt\n",
    "from matplotlib import dates\n",
    "import pandas as pd\n",
    "import numpy as np\n",
    "\n",
    "import matplotlib\n",
    "matplotlib.style.use('ggplot')\n",
    "%matplotlib inline"
   ]
  },
  {
   "cell_type": "code",
   "execution_count": 8,
   "metadata": {
    "collapsed": true,
    "scrolled": true
   },
   "outputs": [],
   "source": [
    "# Read data from http bro logs\n",
    "with open(\"http.log\",'r') as infile:\n",
    "    file_data = infile.read()\n",
    "    \n",
    "# Split file by newlines\n",
    "file_data = file_data.split('\\n')\n",
    "\n",
    "# Remove comment lines\n",
    "http_data = []\n",
    "for line in file_data:\n",
    "    if line[0] is not None and line[0] != \"#\":\n",
    "        http_data.append(line)"
   ]
  },
  {
   "cell_type": "markdown",
   "metadata": {},
   "source": [
    "## The response codes or status codes from the HTTP requests can help us determine if scanning behavior is occurring agains our network. The following will track the response codes and the time in which the code occurred."
   ]
  },
  {
   "cell_type": "code",
   "execution_count": 9,
   "metadata": {
    "collapsed": true,
    "scrolled": true
   },
   "outputs": [],
   "source": [
    "# Analyze status codes\n",
    "status_code_analysis = {}\n",
    "status_code_overall = {}\n",
    "earliest_time = None\n",
    "latest_time = None\n",
    "for line in http_data:\n",
    "    \n",
    "    # Extract the timestamp\n",
    "    timestamp = datetime.fromtimestamp(float(line.split('\\t')[0]))\n",
    "    \n",
    "    # Strip minute, second and microsecond from timestamp\n",
    "    timestamp = str(timestamp.replace(second=0,microsecond=0))\n",
    "    \n",
    "    # Extract the status code\n",
    "    status_code = line.split('\\t')[14]\n",
    "    \n",
    "    # Update status code analysis variable\n",
    "    if status_code not in status_code_analysis.keys():\n",
    "        status_code_analysis[status_code] = {timestamp: 1}\n",
    "    else:\n",
    "        if timestamp not in status_code_analysis[status_code].keys():\n",
    "            status_code_analysis[status_code][timestamp] = 1\n",
    "        else:\n",
    "            status_code_analysis[status_code][timestamp] += 1\n",
    "            \n",
    "    # Update overall status code count\n",
    "    if status_code not in status_code_overall.keys():\n",
    "        status_code_overall[status_code] = 1\n",
    "    else:\n",
    "        status_code_overall[status_code] += 1\n",
    "    \n",
    "    # Update our earliest and latest time as needed\n",
    "    if earliest_time is None or timestamp < earliest_time:\n",
    "        earliest_time = timestamp\n",
    "    if latest_time is None or timestamp > latest_time:\n",
    "        latest_time = timestamp"
   ]
  },
  {
   "cell_type": "code",
   "execution_count": null,
   "metadata": {
    "scrolled": false
   },
   "outputs": [],
   "source": [
    "# Format data for the plot function\n",
    "status_label = []\n",
    "data = []\n",
    "for code in sorted(status_code_overall.keys()):\n",
    "    status_label.append(str(code) + \" (\" + str(status_code_overall[code]) + \")\")\n",
    "    data.append(status_code_overall[code])\n",
    "\n",
    "plot.figure(1,figsize=[8,8])\n",
    "patches, texts = plot.pie(data, shadow=True, startangle=90)\n",
    "plot.legend(patches, status_label,loc=\"best\")\n",
    "plot.title('Status Code Distribution')\n",
    "plot.axis('equal')\n",
    "plot.tight_layout()\n",
    "plot.show()"
   ]
  },
  {
   "cell_type": "markdown",
   "metadata": {},
   "source": [
    "## The 200 responses are the majority and also don't seem to indicate anything malicious. This process of observing baselines and carving away the good to see the bad is discussed in various Threat Hunting white papers. See https://www.netresec.com/?page=Blog&month=2015-08&post=Rinse-Repeat-Intrusion-Detection"
   ]
  },
  {
   "cell_type": "code",
   "execution_count": null,
   "metadata": {
    "scrolled": false
   },
   "outputs": [],
   "source": [
    "# Remove the 200 status code and re-plot the status codes\n",
    "status_code_analysis2 = status_code_analysis\n",
    "if '200' in status_code_analysis2.keys():\n",
    "    del status_code_analysis2['200']\n",
    "#print(status_code_analysis2.keys())\n",
    "df2 = pd.DataFrame.from_dict(status_code_analysis2,orient='columns').fillna(0)\n",
    "df2.plot(rot=90, figsize=(12,9))"
   ]
  },
  {
   "cell_type": "markdown",
   "metadata": {},
   "source": [
    "## In the above graph, there is something interesting occurring with the number and types of response codes. Can you see the anomaly?\n",
    "The status code spike, around 5am, is indicative of enumeration/scanning tools triggering a multitude of error responses."
   ]
  }
 ],
 "metadata": {
  "kernelspec": {
   "display_name": "Python 3",
   "language": "python",
   "name": "python3"
  },
  "language_info": {
   "codemirror_mode": {
    "name": "ipython",
    "version": 3
   },
   "file_extension": ".py",
   "mimetype": "text/x-python",
   "name": "python",
   "nbconvert_exporter": "python",
   "pygments_lexer": "ipython3",
   "version": "3.7.3"
  }
 },
 "nbformat": 4,
 "nbformat_minor": 2
}
